{
 "cells": [
  {
   "cell_type": "markdown",
   "metadata": {},
   "source": [
    "# Quick Start PyTorch\n",
    "\n",
    "Welcome to FloydHub! If you are here, you have just achieved your first success on FH: running your first Job, congrats! Now let's go through the 'Hello World' of DL: the handwrittend digit classification tast using PyTorch as Deep Learning Framework."
   ]
  },
  {
   "cell_type": "markdown",
   "metadata": {},
   "source": [
    "## One point, all the dependencies\n",
    "\n",
    "Let's start defining what packgages we need to run this tutorial.\n",
    "\n",
    "- [Numpy](http://www.numpy.org/) is the fundamental package for scientific computing with Python\n",
    "- [PyTorch](http://pytorch.org/) is the Deep Learning framework we use\n",
    "- [torchvision](http://pytorch.org/docs/master/torchvision/index.html) package consists of popular datasets, model architectures, and common image transformations for computer vision.\n",
    "- [matplotlib](https://matplotlib.org/) is a Python 2D plotting library which produces publication quality figures in a variety of hardcopy formats and interactive environments across platforms."
   ]
  },
  {
   "cell_type": "code",
   "execution_count": 1,
   "metadata": {
    "collapsed": true
   },
   "outputs": [],
   "source": [
    "import numpy as np\n",
    "import torch\n",
    "import torch.nn as nn\n",
    "import torch.nn.functional as F\n",
    "import torch.utils.data.dataloader as dataloader\n",
    "import torch.optim as optim\n",
    "\n",
    "from torch.utils.data import TensorDataset\n",
    "from torch.autograd import Variable\n",
    "from torchvision import transforms\n",
    "from torchvision.datasets import MNIST\n",
    "from torchvision.utils import make_grid\n",
    "\n",
    "import matplotlib.pyplot as plt\n",
    "%matplotlib inline\n",
    "\n",
    "# CUDA?\n",
    "cuda = torch.cuda.is_available()\n",
    "\n",
    "# Seed for replicability\n",
    "torch.manual_seed(1)\n",
    "if cuda:\n",
    "    torch.cuda.manual_seed(1)"
   ]
  },
  {
   "cell_type": "markdown",
   "metadata": {},
   "source": [
    "## MNIST Dataset\n",
    "\n",
    "The [MNIST](http://yann.lecun.com/exdb/mnist/) dataset is available for free and provide a good starting point into DL. `torchvision` already provides the MNIST API so we have not to define a custom pytorch dataset.\n",
    "\n",
    "PyTorch experiments are structured in this way:\n",
    "\n",
    "- create a PyTorch dataset if not already provided by the framework\n",
    "- create an iterator on the dataset using the DataLoader API which combines a dataset and a sampler, and provides single- or multi-process iterators over the dataset.\n",
    "\n",
    "We have specified the `/MNIST` folder as absolute path, otherwise if we have used the local directory, the output of the instance will have contained also the data, consuming additional space and mixing code with data."
   ]
  },
  {
   "cell_type": "code",
   "execution_count": 2,
   "metadata": {},
   "outputs": [
    {
     "name": "stdout",
     "output_type": "stream",
     "text": [
      "Downloading http://yann.lecun.com/exdb/mnist/train-images-idx3-ubyte.gz\n",
      "Downloading http://yann.lecun.com/exdb/mnist/train-labels-idx1-ubyte.gz\n",
      "Downloading http://yann.lecun.com/exdb/mnist/t10k-images-idx3-ubyte.gz\n",
      "Downloading http://yann.lecun.com/exdb/mnist/t10k-labels-idx1-ubyte.gz\n",
      "Processing...\n",
      "Done!\n"
     ]
    }
   ],
   "source": [
    "# Hyperparameters\n",
    "batch_size = 8\n",
    "num_workers = 1\n",
    "\n",
    "# Download the MNIST dataset into the /MNIST folder if not mounted via FH --data\n",
    "train = MNIST('/MNIST', train=True, download=True, transform=transforms.Compose([\n",
    "    transforms.ToTensor(), # ToTensor does min-max normalization. \n",
    "]), )\n",
    "\n",
    "test = MNIST('/MNIST', train=False, download=True, transform=transforms.Compose([\n",
    "    transforms.ToTensor(), # ToTensor does min-max normalization. \n",
    "]), )\n",
    "\n",
    "if cuda:\n",
    "    # Create DataLoader for cuda\n",
    "    dataloader_args = dict(shuffle=True, batch_size=batch_size, num_workers=num_workers, pin_memory=True)\n",
    "else:\n",
    "    dataloader_args = dict(shuffle=True, batch_size=batch_size, num_workers=0, pin_memory=False)\n",
    "    \n",
    "train_loader = dataloader.DataLoader(train, **dataloader_args)\n",
    "test_loader = dataloader.DataLoader(test, **dataloader_args)"
   ]
  },
  {
   "cell_type": "markdown",
   "metadata": {},
   "source": [
    "### FloydHub best practice: separe the code from data\n",
    "\n",
    "The MNIST dataset is not particulary big, but a good FloydHub practice is to have a clean separation from the code to the data. In this example we have a small dataset and the downloading and preprocessing steps do not require a lot of time, but in the case of bigger dataset, we would have waste a lot of time! Luckily FloydHub comes in help: you can upload your dataset on FloydHub and mount it on your Job. This practice decouple your experiments from your data, optimizing the experiments's iteration workflow.\n",
    "\n",
    "For more info see: [create & upload a dataset](https://docs.floydhub.com/guides/create_and_upload_dataset/) and [mounting data to a job](https://docs.floydhub.com/guides/data/mounting_data/).\n",
    "\n",
    "Let's take a closer look at MNIST:"
   ]
  },
  {
   "cell_type": "code",
   "execution_count": 3,
   "metadata": {},
   "outputs": [
    {
     "name": "stdout",
     "output_type": "stream",
     "text": [
      "[Train]\n",
      " - Numpy Shape: (60000, 28, 28)\n",
      " - Tensor Shape: torch.Size([60000, 28, 28])\n",
      " - Transformed Shape: torch.Size([28, 60000, 28])\n",
      " - min: 0.0\n",
      " - max: 1.0\n",
      " - mean: 0.13066047740240005\n",
      " - std: 0.3081078089011192\n",
      " - var: 0.0949304219058486\n"
     ]
    }
   ],
   "source": [
    "train_data = train.train_data\n",
    "train_data = train.transform(train_data.numpy())\n",
    "\n",
    "print('[Train]')\n",
    "print(' - Numpy Shape:', train.train_data.cpu().numpy().shape)\n",
    "print(' - Tensor Shape:', train.train_data.size())\n",
    "print(' - Transformed Shape:', train_data.size())\n",
    "print(' - min:', torch.min(train_data))\n",
    "print(' - max:', torch.max(train_data))\n",
    "print(' - mean:', torch.mean(train_data))\n",
    "print(' - std:', torch.std(train_data))\n",
    "print(' - var:', torch.var(train_data))"
   ]
  },
  {
   "cell_type": "code",
   "execution_count": 4,
   "metadata": {},
   "outputs": [
    {
     "name": "stdout",
     "output_type": "stream",
     "text": [
      "[Test]\n",
      " - Numpy Shape: (10000, 28, 28)\n",
      " - Tensor Shape: torch.Size([10000, 28, 28])\n",
      " - Transformed Shape: torch.Size([28, 10000, 28])\n",
      " - min: 0.0\n",
      " - max: 1.0\n",
      " - mean: 0.13251460696903547\n",
      " - std: 0.3104802693602732\n",
      " - var: 0.09639799766202778\n"
     ]
    }
   ],
   "source": [
    "test_data = test.test_data\n",
    "test_data = test.transform(test_data.numpy())\n",
    "\n",
    "print('[Test]')\n",
    "print(' - Numpy Shape:', test.test_data.cpu().numpy().shape)\n",
    "print(' - Tensor Shape:', test.test_data.size())\n",
    "print(' - Transformed Shape:', test_data.size())\n",
    "print(' - min:', torch.min(test_data))\n",
    "print(' - max:', torch.max(test_data))\n",
    "print(' - mean:', torch.mean(test_data))\n",
    "print(' - std:', torch.std(test_data))\n",
    "print(' - var:', torch.var(test_data))"
   ]
  },
  {
   "cell_type": "markdown",
   "metadata": {},
   "source": [
    "So we have 60k black & white images of 28x28 pixels for training, and 10k for testing. Let's visualize what this sample look like:"
   ]
  },
  {
   "cell_type": "code",
   "execution_count": 5,
   "metadata": {},
   "outputs": [
    {
     "data": {
      "image/png": "[encoded data removed]",
      "text/plain": [
       "<matplotlib.figure.Figure at 0x7fa6419689e8>"
      ]
     },
     "metadata": {},
     "output_type": "display_data"
    }
   ],
   "source": [
    "# Show a sample\n",
    "plt.imshow(test.test_data.cpu()[0].numpy(), cmap='gray')\n",
    "plt.title('DIGIT: %i' % test.test_labels.cpu()[0])\n",
    "plt.axis('off')\n",
    "plt.show()"
   ]
  },
  {
   "cell_type": "code",
   "execution_count": 6,
   "metadata": {},
   "outputs": [
    {
     "name": "stdout",
     "output_type": "stream",
     "text": [
      "[[  0   0   0   0   0   0   0   0   0   0   0   0   0   0   0   0   0   0\n",
      "    0   0   0   0   0   0   0   0   0   0]\n",
      " [  0   0   0   0   0   0   0   0   0   0   0   0   0   0   0   0   0   0\n",
      "    0   0   0   0   0   0   0   0   0   0]\n",
      " [  0   0   0   0   0   0   0   0   0   0   0   0   0   0   0   0   0   0\n",
      "    0   0   0   0   0   0   0   0   0   0]\n",
      " [  0   0   0   0   0   0   0   0   0   0   0   0   0   0   0   0   0   0\n",
      "    0   0   0   0   0   0   0   0   0   0]\n",
      " [  0   0   0   0   0   0   0   0   0   0   0   0   0   0   0   0   0   0\n",
      "    0   0   0   0   0   0   0   0   0   0]\n",
      " [  0   0   0   0   0   0   0   0   0   0   0   0   0   0   0   0   0   0\n",
      "    0   0   0   0   0   0   0   0   0   0]\n",
      " [  0   0   0   0   0   0   0   0   0   0   0   0   0   0   0   0   0   0\n",
      "    0   0   0   0   0   0   0   0   0   0]\n",
      " [  0   0   0   0   0   0  84 185 159 151  60  36   0   0   0   0   0   0\n",
      "    0   0   0   0   0   0   0   0   0   0]\n",
      " [  0   0   0   0   0   0 222 254 254 254 254 241 198 198 198 198 198 198\n",
      "  198 198 170  52   0   0   0   0   0   0]\n",
      " [  0   0   0   0   0   0  67 114  72 114 163 227 254 225 254 254 254 250\n",
      "  229 254 254 140   0   0   0   0   0   0]\n",
      " [  0   0   0   0   0   0   0   0   0   0   0  17  66  14  67  67  67  59\n",
      "   21 236 254 106   0   0   0   0   0   0]\n",
      " [  0   0   0   0   0   0   0   0   0   0   0   0   0   0   0   0   0   0\n",
      "   83 253 209  18   0   0   0   0   0   0]\n",
      " [  0   0   0   0   0   0   0   0   0   0   0   0   0   0   0   0   0  22\n",
      "  233 255  83   0   0   0   0   0   0   0]\n",
      " [  0   0   0   0   0   0   0   0   0   0   0   0   0   0   0   0   0 129\n",
      "  254 238  44   0   0   0   0   0   0   0]\n",
      " [  0   0   0   0   0   0   0   0   0   0   0   0   0   0   0   0  59 249\n",
      "  254  62   0   0   0   0   0   0   0   0]\n",
      " [  0   0   0   0   0   0   0   0   0   0   0   0   0   0   0   0 133 254\n",
      "  187   5   0   0   0   0   0   0   0   0]\n",
      " [  0   0   0   0   0   0   0   0   0   0   0   0   0   0   0   9 205 248\n",
      "   58   0   0   0   0   0   0   0   0   0]\n",
      " [  0   0   0   0   0   0   0   0   0   0   0   0   0   0   0 126 254 182\n",
      "    0   0   0   0   0   0   0   0   0   0]\n",
      " [  0   0   0   0   0   0   0   0   0   0   0   0   0   0  75 251 240  57\n",
      "    0   0   0   0   0   0   0   0   0   0]\n",
      " [  0   0   0   0   0   0   0   0   0   0   0   0   0  19 221 254 166   0\n",
      "    0   0   0   0   0   0   0   0   0   0]\n",
      " [  0   0   0   0   0   0   0   0   0   0   0   0   3 203 254 219  35   0\n",
      "    0   0   0   0   0   0   0   0   0   0]\n",
      " [  0   0   0   0   0   0   0   0   0   0   0   0  38 254 254  77   0   0\n",
      "    0   0   0   0   0   0   0   0   0   0]\n",
      " [  0   0   0   0   0   0   0   0   0   0   0  31 224 254 115   1   0   0\n",
      "    0   0   0   0   0   0   0   0   0   0]\n",
      " [  0   0   0   0   0   0   0   0   0   0   0 133 254 254  52   0   0   0\n",
      "    0   0   0   0   0   0   0   0   0   0]\n",
      " [  0   0   0   0   0   0   0   0   0   0  61 242 254 254  52   0   0   0\n",
      "    0   0   0   0   0   0   0   0   0   0]\n",
      " [  0   0   0   0   0   0   0   0   0   0 121 254 254 219  40   0   0   0\n",
      "    0   0   0   0   0   0   0   0   0   0]\n",
      " [  0   0   0   0   0   0   0   0   0   0 121 254 207  18   0   0   0   0\n",
      "    0   0   0   0   0   0   0   0   0   0]\n",
      " [  0   0   0   0   0   0   0   0   0   0   0   0   0   0   0   0   0   0\n",
      "    0   0   0   0   0   0   0   0   0   0]]\n"
     ]
    }
   ],
   "source": [
    "# This is what it looks like seen as raw numbers in range 0-254,\n",
    "# where 0 represent black pixels and 254 white pixels.\n",
    "\n",
    "print (test.test_data.cpu()[0].numpy())"
   ]
  },
  {
   "cell_type": "code",
   "execution_count": 7,
   "metadata": {},
   "outputs": [
    {
     "data": {
      "image/png": "[encoded data removed]",
      "text/plain": [
       "<matplotlib.figure.Figure at 0x7fa6416e5518>"
      ]
     },
     "metadata": {},
     "output_type": "display_data"
    }
   ],
   "source": [
    "# More Visualization on grid format\n",
    "\n",
    "# Plot a grid of images\n",
    "def imshow(inp_tensor, title):\n",
    "    \"\"\"image show for Tensor\"\"\"\n",
    "    img = inp_tensor.numpy().transpose((1, 2, 0))\n",
    "    plt.imshow(img)\n",
    "    if title is not None:\n",
    "        plt.title(title)\n",
    "    plt.pause(0.001)\n",
    "\n",
    "# Get a batch\n",
    "trainset_iter = iter(train_loader)\n",
    "images, labels = trainset_iter.next()\n",
    "# show images\n",
    "batch_imgs = make_grid(images, nrow=batch_size)\n",
    "plt.axis('off')\n",
    "imshow(batch_imgs, title=[x for x in labels])"
   ]
  },
  {
   "cell_type": "markdown",
   "metadata": {},
   "source": [
    "Is time to prepare the DataLoader to perform the training, we have increased the batch size reducing the noise."
   ]
  },
  {
   "cell_type": "code",
   "execution_count": 8,
   "metadata": {
    "collapsed": true
   },
   "outputs": [],
   "source": [
    "# Hyperparameters\n",
    "batch_size = 64\n",
    "\n",
    "if cuda:\n",
    "    # Create DataLoader for cuda\n",
    "    dataloader_args = dict(shuffle=True, batch_size=batch_size, num_workers=num_workers, pin_memory=True)\n",
    "else:\n",
    "    dataloader_args = dict(shuffle=True, batch_size=batch_size, num_workers=0, pin_memory=False)\n",
    "    \n",
    "train_loader = dataloader.DataLoader(train, **dataloader_args)\n",
    "test_loader = dataloader.DataLoader(test, **dataloader_args)"
   ]
  },
  {
   "cell_type": "markdown",
   "metadata": {},
   "source": [
    "## Model\n",
    "\n",
    "We use a 2 layer Neural Networks with ReLU as activation function, BatchNormalization and Dropout as regularizer."
   ]
  },
  {
   "cell_type": "code",
   "execution_count": 9,
   "metadata": {
    "collapsed": true
   },
   "outputs": [],
   "source": [
    "# Hyperparameters\n",
    "input_size = 784 # 28 * 28\n",
    "hidden_size = 548\n",
    "hidden_size2 = 252\n",
    "num_classes = 10\n",
    "learning_rate = 1e-3\n",
    "\n",
    "class Model(nn.Module):\n",
    "    def __init__(self):\n",
    "        super(Model, self).__init__()\n",
    "        \n",
    "        self.fc1 = nn.Linear(input_size, hidden_size)\n",
    "        self.bc1 = nn.BatchNorm1d(hidden_size)\n",
    "        \n",
    "        self.fc2 = nn.Linear(hidden_size, hidden_size2)\n",
    "        self.bc2 = nn.BatchNorm1d(hidden_size2)\n",
    "        \n",
    "        self.fc3 = nn.Linear(hidden_size2, num_classes)\n",
    "        \n",
    "        \n",
    "    def forward(self, x):\n",
    "        x = x.view((-1, 784))\n",
    "        h = self.fc1(x)\n",
    "        h = self.bc1(h)\n",
    "        h = F.relu(h)\n",
    "        h = F.dropout(h, p=0.5, training=self.training)\n",
    "        \n",
    "        h = self.fc2(h)\n",
    "        h = self.bc2(h)\n",
    "        h = F.relu(h)\n",
    "        h = F.dropout(h, p=0.2, training=self.training)\n",
    "        \n",
    "        h = self.fc3(h)\n",
    "        out = F.log_softmax(h)\n",
    "        return out\n",
    "\n",
    "model = Model()\n",
    "\n",
    "if cuda:\n",
    "    model.cuda() # CUDA!\n",
    "\n",
    "# Cross Entropy as loss function\n",
    "loss_fn = nn.CrossEntropyLoss()\n",
    "# If you are running a GPU instance, compute the loss on GPU\n",
    "if cuda:\n",
    "    loss_fn.cuda()    \n",
    "\n",
    "# Adam Optimizer\n",
    "optimizer = optim.Adam(model.parameters(), lr=0.001)"
   ]
  },
  {
   "cell_type": "markdown",
   "metadata": {},
   "source": [
    "## Train\n",
    "\n",
    "Perform a 15 epochs training and plot Loss and Accuracy over the epochs."
   ]
  },
  {
   "cell_type": "code",
   "execution_count": 10,
   "metadata": {},
   "outputs": [
    {
     "name": "stdout",
     "output_type": "stream",
     "text": [
      "Epoch: [1/5], Step: [100/937], Loss: 0.4084, Accuracy: 89.0625\n",
      "Epoch: [1/5], Step: [200/937], Loss: 0.3083, Accuracy: 89.0625\n",
      "Epoch: [1/5], Step: [300/937], Loss: 0.2915, Accuracy: 92.1875\n",
      "Epoch: [1/5], Step: [400/937], Loss: 0.1932, Accuracy: 90.6250\n",
      "Epoch: [1/5], Step: [500/937], Loss: 0.2441, Accuracy: 95.3125\n",
      "Epoch: [1/5], Step: [600/937], Loss: 0.2998, Accuracy: 90.6250\n",
      "Epoch: [1/5], Step: [700/937], Loss: 0.2585, Accuracy: 93.7500\n",
      "Epoch: [1/5], Step: [800/937], Loss: 0.1705, Accuracy: 92.1875\n",
      "Epoch: [1/5], Step: [900/937], Loss: 0.0739, Accuracy: 96.8750\n",
      "Epoch: [2/5], Step: [100/937], Loss: 0.4075, Accuracy: 85.9375\n",
      "Epoch: [2/5], Step: [200/937], Loss: 0.1415, Accuracy: 95.3125\n",
      "Epoch: [2/5], Step: [300/937], Loss: 0.0647, Accuracy: 96.8750\n",
      "Epoch: [2/5], Step: [400/937], Loss: 0.1792, Accuracy: 93.7500\n",
      "Epoch: [2/5], Step: [500/937], Loss: 0.0555, Accuracy: 98.4375\n",
      "Epoch: [2/5], Step: [600/937], Loss: 0.1164, Accuracy: 95.3125\n",
      "Epoch: [2/5], Step: [700/937], Loss: 0.1178, Accuracy: 96.8750\n",
      "Epoch: [2/5], Step: [800/937], Loss: 0.1605, Accuracy: 92.1875\n",
      "Epoch: [2/5], Step: [900/937], Loss: 0.1657, Accuracy: 95.3125\n",
      "Epoch: [3/5], Step: [100/937], Loss: 0.0847, Accuracy: 96.8750\n",
      "Epoch: [3/5], Step: [200/937], Loss: 0.2292, Accuracy: 93.7500\n",
      "Epoch: [3/5], Step: [300/937], Loss: 0.1075, Accuracy: 95.3125\n",
      "Epoch: [3/5], Step: [400/937], Loss: 0.1579, Accuracy: 98.4375\n",
      "Epoch: [3/5], Step: [500/937], Loss: 0.0645, Accuracy: 98.4375\n",
      "Epoch: [3/5], Step: [600/937], Loss: 0.1048, Accuracy: 98.4375\n",
      "Epoch: [3/5], Step: [700/937], Loss: 0.1387, Accuracy: 95.3125\n",
      "Epoch: [3/5], Step: [800/937], Loss: 0.1630, Accuracy: 92.1875\n",
      "Epoch: [3/5], Step: [900/937], Loss: 0.1094, Accuracy: 95.3125\n",
      "Epoch: [4/5], Step: [100/937], Loss: 0.0518, Accuracy: 98.4375\n",
      "Epoch: [4/5], Step: [200/937], Loss: 0.0773, Accuracy: 96.8750\n",
      "Epoch: [4/5], Step: [300/937], Loss: 0.1246, Accuracy: 93.7500\n",
      "Epoch: [4/5], Step: [400/937], Loss: 0.1837, Accuracy: 92.1875\n",
      "Epoch: [4/5], Step: [500/937], Loss: 0.3028, Accuracy: 93.7500\n",
      "Epoch: [4/5], Step: [600/937], Loss: 0.1701, Accuracy: 95.3125\n",
      "Epoch: [4/5], Step: [700/937], Loss: 0.0194, Accuracy: 98.4375\n",
      "Epoch: [4/5], Step: [800/937], Loss: 0.1489, Accuracy: 95.3125\n",
      "Epoch: [4/5], Step: [900/937], Loss: 0.0549, Accuracy: 98.4375\n",
      "Epoch: [5/5], Step: [100/937], Loss: 0.1745, Accuracy: 93.7500\n",
      "Epoch: [5/5], Step: [200/937], Loss: 0.0267, Accuracy: 100.0000\n",
      "Epoch: [5/5], Step: [300/937], Loss: 0.0207, Accuracy: 100.0000\n",
      "Epoch: [5/5], Step: [400/937], Loss: 0.1785, Accuracy: 92.1875\n",
      "Epoch: [5/5], Step: [500/937], Loss: 0.0187, Accuracy: 100.0000\n",
      "Epoch: [5/5], Step: [600/937], Loss: 0.1718, Accuracy: 98.4375\n",
      "Epoch: [5/5], Step: [700/937], Loss: 0.1512, Accuracy: 95.3125\n",
      "Epoch: [5/5], Step: [800/937], Loss: 0.0156, Accuracy: 100.0000\n",
      "Epoch: [5/5], Step: [900/937], Loss: 0.0152, Accuracy: 100.0000\n"
     ]
    }
   ],
   "source": [
    "# Hyperparameters\n",
    "num_epochs = 5\n",
    "print_every = 100\n",
    "\n",
    "# Metrics\n",
    "train_loss = []\n",
    "train_accu = []\n",
    "\n",
    "# Model train mode\n",
    "model.train()\n",
    "# Training the Model\n",
    "for epoch in range(num_epochs):\n",
    "    for i, (images, labels) in enumerate(train_loader):\n",
    "        # image unrolling\n",
    "        images = Variable(images.view(-1, 28*28))\n",
    "        labels = Variable(labels)\n",
    "        \n",
    "        if cuda:\n",
    "            images, labels = images.cuda(), labels.cuda()\n",
    "        \n",
    "        # Forward + Backward + Optimize\n",
    "        optimizer.zero_grad()\n",
    "        outputs = model(images)\n",
    "        loss = loss_fn(outputs, labels)\n",
    "        \n",
    "        # Load loss on CPU\n",
    "        if cuda:\n",
    "            loss.cpu()\n",
    "        loss.backward()\n",
    "        optimizer.step()\n",
    "        \n",
    "        ### Keep track of metric every batch\n",
    "        # Loss Metric\n",
    "        train_loss.append(loss.data[0])\n",
    "        # Accuracy Metric\n",
    "        prediction = outputs.data.max(1)[1]   # first column has actual prob.\n",
    "        accuracy = prediction.eq(labels.data).sum()/batch_size*100\n",
    "        train_accu.append(accuracy)\n",
    "        \n",
    "        # Log\n",
    "        if (i+1) % print_every == 0:\n",
    "            print ('Epoch: [%d/%d], Step: [%d/%d], Loss: %.4f, Accuracy: %.4f' \n",
    "                   % (epoch+1, num_epochs, i+1, len(train)//batch_size, loss.data[0], accuracy))"
   ]
  },
  {
   "cell_type": "code",
   "execution_count": 11,
   "metadata": {},
   "outputs": [
    {
     "data": {
      "text/plain": [
       "[<matplotlib.lines.Line2D at 0x7fa698070860>]"
      ]
     },
     "execution_count": 11,
     "metadata": {},
     "output_type": "execute_result"
    },
    {
     "data": {
      "image/png": "[encoded data removed]",
      "text/plain": [
       "<matplotlib.figure.Figure at 0x7fa698070d30>"
      ]
     },
     "metadata": {},
     "output_type": "display_data"
    }
   ],
   "source": [
    "# Plot Loss over time\n",
    "plt.xlabel(\"Steps\")\n",
    "plt.ylabel(\"Loss\")\n",
    "plt.title(\"Loss function over time\")\n",
    "plt.plot(np.arange(len(train_loss)), train_loss)"
   ]
  },
  {
   "cell_type": "code",
   "execution_count": 12,
   "metadata": {},
   "outputs": [
    {
     "data": {
      "text/plain": [
       "[<matplotlib.lines.Line2D at 0x7fa698070e80>]"
      ]
     },
     "execution_count": 12,
     "metadata": {},
     "output_type": "execute_result"
    },
    {
     "data": {
      "image/png": "[encoded data removed]",
      "text/plain": [
       "<matplotlib.figure.Figure at 0x7fa698070fd0>"
      ]
     },
     "metadata": {},
     "output_type": "display_data"
    }
   ],
   "source": [
    "# Plot Accuracy over time\n",
    "plt.xlabel(\"Steps\")\n",
    "plt.ylabel(\"Accuracy\")\n",
    "plt.title(\"Accuracy function over time\")\n",
    "plt.plot(np.arange(len(train_accu)), train_accu)"
   ]
  },
  {
   "cell_type": "markdown",
   "metadata": {},
   "source": [
    "## Evaluate\n",
    "\n",
    "Evaluate the trained model over the full test set."
   ]
  },
  {
   "cell_type": "code",
   "execution_count": 13,
   "metadata": {},
   "outputs": [
    {
     "name": "stdout",
     "output_type": "stream",
     "text": [
      "\n",
      "Test set: Accuracy: 98.12%\n"
     ]
    }
   ],
   "source": [
    "model.eval()\n",
    "correct = 0\n",
    "for data, target in test_loader:\n",
    "    data, target = Variable(data.view(-1, 28*28), volatile=True), Variable(target)\n",
    "    if cuda:\n",
    "        data, target = data.cuda(), target.cuda()\n",
    "    output = model(data)\n",
    "    # Load output on CPU\n",
    "    if cuda:\n",
    "        output.cpu()\n",
    "    prediction = output.data.max(1)[1]\n",
    "    correct += prediction.eq(target.data).sum()\n",
    "\n",
    "print('\\nTest set: Accuracy: {:.2f}%'.format(100. * correct / len(test_loader.dataset)))"
   ]
  },
  {
   "cell_type": "markdown",
   "metadata": {},
   "source": [
    "## Summary\n",
    "\n",
    "Great you have achieved 98% of accuracy and familiarize with Jupyter Notebook running a Deep Learning workflow on FloydHub. This is only the starting point on your Deep Learning journey on FH, we encourage you to experiments.\n",
    "\n",
    "If you need help on DeepLearning content or you cannot find an answer to your questions after read our great [Docs](https://docs.floydhub.com/), you can open a Topic in the [Forum](https://forum.floydhub.com/) where we provide a great customer service there :). Moreover your issues can help us to improving FloydHub and other users and solving your same problems.\n",
    "\n",
    "Happy Learning!"
   ]
  },
  {
   "cell_type": "code",
   "execution_count": null,
   "metadata": {
    "collapsed": true
   },
   "outputs": [],
   "source": []
  }
 ],
 "metadata": {
  "kernelspec": {
   "display_name": "Python 3",
   "language": "python",
   "name": "python3"
  },
  "language_info": {
   "codemirror_mode": {
    "name": "ipython",
    "version": 3
   },
   "file_extension": ".py",
   "mimetype": "text/x-python",
   "name": "python",
   "nbconvert_exporter": "python",
   "pygments_lexer": "ipython3",
   "version": "3.5.3"
  }
 },
 "nbformat": 4,
 "nbformat_minor": 2
}
